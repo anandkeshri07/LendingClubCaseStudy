{
 "cells": [
  {
   "cell_type": "code",
   "execution_count": 4,
   "id": "5e25d4ec",
   "metadata": {},
   "outputs": [
    {
     "name": "stdout",
     "output_type": "stream",
     "text": [
      "(39717, 111)\n"
     ]
    },
    {
     "name": "stderr",
     "output_type": "stream",
     "text": [
      "/var/folders/kp/4mdlby_s1_n2rndtn7k_2kd0_rkjpd/T/ipykernel_14410/247647183.py:6: DtypeWarning: Columns (47) have mixed types. Specify dtype option on import or set low_memory=False.\n",
      "  loans = pd.read_csv('/Users/anand.keshri/upgrad/loan.csv')\n"
     ]
    }
   ],
   "source": [
    "import pandas as pd\n",
    "import matplotlib.pyplot as plt\n",
    "import numpy as np\n",
    "import seaborn as sns\n",
    "import math\n",
    "loans = pd.read_csv('/Users/anand.keshri/upgrad/loan.csv')\n",
    "print(loans.shape)\n"
   ]
  },
  {
   "cell_type": "code",
   "execution_count": 18,
   "id": "ba8a1792",
   "metadata": {},
   "outputs": [
    {
     "name": "stdout",
     "output_type": "stream",
     "text": [
      "{dtype('int64'): 13, dtype('float64'): 74, dtype('O'): 24}\n"
     ]
    }
   ],
   "source": [
    "data_dictionary = {}\n",
    "\n",
    "def add_dictionary(self, key, value): \n",
    "        if key not in self:\n",
    "            self[key] = value\n",
    "        else:\n",
    "            self[key] = self.get(key) + 1\n",
    "for i in loans.dtypes:\n",
    "    add_dictionary(data_dictionary, i, 1)\n",
    "    \n",
    "print(data_dictionary)"
   ]
  },
  {
   "cell_type": "code",
   "execution_count": 68,
   "id": "938f9500",
   "metadata": {},
   "outputs": [
    {
     "name": "stdout",
     "output_type": "stream",
     "text": [
      "0\n",
      "[]\n",
      "38577\n"
     ]
    }
   ],
   "source": [
    "data_series = {}\n",
    "data_series = round((100*loans.isnull().sum())/len(loans.index))\n",
    "count = 0\n",
    "array_empty_values = []\n",
    "for index, value in data_series.items():\n",
    "    if value > 60:\n",
    "        array_empty_values.append(index)\n",
    "        count += 1\n",
    "print(count)\n",
    "print(array_empty_values)\n",
    "\n",
    "\n"
   ]
  },
  {
   "cell_type": "code",
   "execution_count": 50,
   "id": "f89073be",
   "metadata": {},
   "outputs": [
    {
     "name": "stdout",
     "output_type": "stream",
     "text": [
      "pymnt_plan\n",
      "initial_list_status\n",
      "mths_since_last_major_derog\n",
      "policy_code\n",
      "application_type\n",
      "annual_inc_joint\n",
      "dti_joint\n",
      "verification_status_joint\n",
      "acc_now_delinq\n",
      "tot_coll_amt\n",
      "tot_cur_bal\n",
      "open_acc_6m\n",
      "open_il_6m\n",
      "open_il_12m\n",
      "open_il_24m\n",
      "mths_since_rcnt_il\n",
      "total_bal_il\n",
      "il_util\n",
      "open_rv_12m\n",
      "open_rv_24m\n",
      "max_bal_bc\n",
      "all_util\n",
      "total_rev_hi_lim\n",
      "inq_fi\n",
      "total_cu_tl\n",
      "inq_last_12m\n",
      "acc_open_past_24mths\n",
      "avg_cur_bal\n",
      "bc_open_to_buy\n",
      "bc_util\n",
      "delinq_amnt\n",
      "mo_sin_old_il_acct\n",
      "mo_sin_old_rev_tl_op\n",
      "mo_sin_rcnt_rev_tl_op\n",
      "mo_sin_rcnt_tl\n",
      "mort_acc\n",
      "mths_since_recent_bc\n",
      "mths_since_recent_bc_dlq\n",
      "mths_since_recent_inq\n",
      "mths_since_recent_revol_delinq\n",
      "num_accts_ever_120_pd\n",
      "num_actv_bc_tl\n",
      "num_actv_rev_tl\n",
      "num_bc_sats\n",
      "num_bc_tl\n",
      "num_il_tl\n",
      "num_op_rev_tl\n",
      "num_rev_accts\n",
      "num_rev_tl_bal_gt_0\n",
      "num_sats\n",
      "num_tl_120dpd_2m\n",
      "num_tl_30dpd\n",
      "num_tl_90g_dpd_24m\n",
      "num_tl_op_past_12m\n",
      "pct_tl_nvr_dlq\n",
      "percent_bc_gt_75\n",
      "tot_hi_cred_lim\n",
      "total_bal_ex_mort\n",
      "total_bc_limit\n",
      "total_il_high_credit_limit\n",
      "60\n",
      "['mths_since_last_delinq', 'mths_since_last_record', 'next_pymnt_d', 'mths_since_last_major_derog', 'annual_inc_joint', 'dti_joint', 'verification_status_joint', 'tot_coll_amt', 'tot_cur_bal', 'open_acc_6m', 'open_il_6m', 'open_il_12m', 'open_il_24m', 'mths_since_rcnt_il', 'total_bal_il', 'il_util', 'open_rv_12m', 'open_rv_24m', 'max_bal_bc', 'all_util', 'total_rev_hi_lim', 'inq_fi', 'total_cu_tl', 'inq_last_12m', 'acc_open_past_24mths', 'avg_cur_bal', 'bc_open_to_buy', 'bc_util', 'mo_sin_old_il_acct', 'mo_sin_old_rev_tl_op', 'mo_sin_rcnt_rev_tl_op', 'mo_sin_rcnt_tl', 'mort_acc', 'mths_since_recent_bc', 'mths_since_recent_bc_dlq', 'mths_since_recent_inq', 'mths_since_recent_revol_delinq', 'num_accts_ever_120_pd', 'num_actv_bc_tl', 'num_actv_rev_tl', 'num_bc_sats', 'num_bc_tl', 'num_il_tl', 'num_op_rev_tl', 'num_rev_accts', 'num_rev_tl_bal_gt_0', 'num_sats', 'num_tl_120dpd_2m', 'num_tl_30dpd', 'num_tl_90g_dpd_24m', 'num_tl_op_past_12m', 'pct_tl_nvr_dlq', 'percent_bc_gt_75', 'tot_hi_cred_lim', 'total_bal_ex_mort', 'total_bc_limit', 'total_il_high_credit_limit']\n"
     ]
    }
   ],
   "source": [
    "count = 0\n",
    "array_single_values = []\n",
    "for name, values in loans.iteritems():\n",
    "    if len(values.unique()) == 1:\n",
    "        print(name)\n",
    "        array_single_values.append(name)\n",
    "        count += 1\n",
    "        \n",
    "print(count)\n",
    "print(array_empty_values)"
   ]
  },
  {
   "cell_type": "code",
   "execution_count": 63,
   "id": "d98b5a2a",
   "metadata": {},
   "outputs": [
    {
     "ename": "KeyError",
     "evalue": "\"['acc_now_delinq', 'acc_open_past_24mths', 'all_util', 'annual_inc_joint', 'application_type', 'avg_cur_bal', 'bc_open_to_buy', 'bc_util', 'delinq_amnt', 'dti_joint', 'il_util', 'initial_list_status', 'inq_fi', 'inq_last_12m', 'max_bal_bc', 'mo_sin_old_il_acct', 'mo_sin_old_rev_tl_op', 'mo_sin_rcnt_rev_tl_op', 'mo_sin_rcnt_tl', 'mort_acc', 'mths_since_last_major_derog', 'mths_since_rcnt_il', 'mths_since_recent_bc', 'mths_since_recent_bc_dlq', 'mths_since_recent_inq', 'mths_since_recent_revol_delinq', 'num_accts_ever_120_pd', 'num_actv_bc_tl', 'num_actv_rev_tl', 'num_bc_sats', 'num_bc_tl', 'num_il_tl', 'num_op_rev_tl', 'num_rev_accts', 'num_rev_tl_bal_gt_0', 'num_sats', 'num_tl_120dpd_2m', 'num_tl_30dpd', 'num_tl_90g_dpd_24m', 'num_tl_op_past_12m', 'open_acc_6m', 'open_il_12m', 'open_il_24m', 'open_il_6m', 'open_rv_12m', 'open_rv_24m', 'pct_tl_nvr_dlq', 'percent_bc_gt_75', 'policy_code', 'pymnt_plan', 'tot_coll_amt', 'tot_cur_bal', 'tot_hi_cred_lim', 'total_bal_ex_mort', 'total_bal_il', 'total_bc_limit', 'total_cu_tl', 'total_il_high_credit_limit', 'total_rev_hi_lim', 'verification_status_joint', 'mths_since_last_delinq', 'mths_since_last_record', 'next_pymnt_d', 'chargeoff_within_12_mths', 'collections_12_mths_ex_med', 'desc', 'emp_length', 'emp_title', 'id', 'il_util', 'open_rv_12m', 'initial_list_status', 'member_id', 'pub_rec_bankruptcies', 'tax_liens', 'url', 'zip_code'] not found in axis\"",
     "output_type": "error",
     "traceback": [
      "\u001b[0;31m---------------------------------------------------------------------------\u001b[0m",
      "\u001b[0;31mKeyError\u001b[0m                                  Traceback (most recent call last)",
      "Input \u001b[0;32mIn [63]\u001b[0m, in \u001b[0;36m<cell line: 1>\u001b[0;34m()\u001b[0m\n\u001b[0;32m----> 1\u001b[0m \u001b[43mloans\u001b[49m\u001b[38;5;241;43m.\u001b[39;49m\u001b[43mdrop\u001b[49m\u001b[43m \u001b[49m\u001b[43m(\u001b[49m\u001b[43m[\u001b[49m\u001b[38;5;124;43m'\u001b[39;49m\u001b[38;5;124;43macc_now_delinq\u001b[39;49m\u001b[38;5;124;43m'\u001b[39;49m\u001b[43m,\u001b[49m\n\u001b[1;32m      2\u001b[0m \u001b[38;5;124;43m'\u001b[39;49m\u001b[38;5;124;43macc_open_past_24mths\u001b[39;49m\u001b[38;5;124;43m'\u001b[39;49m\u001b[43m,\u001b[49m\n\u001b[1;32m      3\u001b[0m \u001b[38;5;124;43m'\u001b[39;49m\u001b[38;5;124;43mall_util\u001b[39;49m\u001b[38;5;124;43m'\u001b[39;49m\u001b[43m,\u001b[49m\n\u001b[1;32m      4\u001b[0m \u001b[38;5;124;43m'\u001b[39;49m\u001b[38;5;124;43mannual_inc_joint\u001b[39;49m\u001b[38;5;124;43m'\u001b[39;49m\u001b[43m,\u001b[49m\n\u001b[1;32m      5\u001b[0m \u001b[38;5;124;43m'\u001b[39;49m\u001b[38;5;124;43mapplication_type\u001b[39;49m\u001b[38;5;124;43m'\u001b[39;49m\u001b[43m,\u001b[49m\n\u001b[1;32m      6\u001b[0m \u001b[38;5;124;43m'\u001b[39;49m\u001b[38;5;124;43mavg_cur_bal\u001b[39;49m\u001b[38;5;124;43m'\u001b[39;49m\u001b[43m,\u001b[49m\n\u001b[1;32m      7\u001b[0m \u001b[38;5;124;43m'\u001b[39;49m\u001b[38;5;124;43mbc_open_to_buy\u001b[39;49m\u001b[38;5;124;43m'\u001b[39;49m\u001b[43m,\u001b[49m\n\u001b[1;32m      8\u001b[0m \u001b[38;5;124;43m'\u001b[39;49m\u001b[38;5;124;43mbc_util\u001b[39;49m\u001b[38;5;124;43m'\u001b[39;49m\u001b[43m,\u001b[49m\n\u001b[1;32m      9\u001b[0m \u001b[38;5;124;43m'\u001b[39;49m\u001b[38;5;124;43mdelinq_amnt\u001b[39;49m\u001b[38;5;124;43m'\u001b[39;49m\u001b[43m,\u001b[49m\n\u001b[1;32m     10\u001b[0m \u001b[38;5;124;43m'\u001b[39;49m\u001b[38;5;124;43mdti_joint\u001b[39;49m\u001b[38;5;124;43m'\u001b[39;49m\u001b[43m,\u001b[49m\n\u001b[1;32m     11\u001b[0m \u001b[38;5;124;43m'\u001b[39;49m\u001b[38;5;124;43mil_util\u001b[39;49m\u001b[38;5;124;43m'\u001b[39;49m\u001b[43m,\u001b[49m\n\u001b[1;32m     12\u001b[0m \u001b[38;5;124;43m'\u001b[39;49m\u001b[38;5;124;43minitial_list_status\u001b[39;49m\u001b[38;5;124;43m'\u001b[39;49m\u001b[43m,\u001b[49m\n\u001b[1;32m     13\u001b[0m \u001b[38;5;124;43m'\u001b[39;49m\u001b[38;5;124;43minq_fi\u001b[39;49m\u001b[38;5;124;43m'\u001b[39;49m\u001b[43m,\u001b[49m\n\u001b[1;32m     14\u001b[0m \u001b[38;5;124;43m'\u001b[39;49m\u001b[38;5;124;43minq_last_12m\u001b[39;49m\u001b[38;5;124;43m'\u001b[39;49m\u001b[43m,\u001b[49m\n\u001b[1;32m     15\u001b[0m \u001b[38;5;124;43m'\u001b[39;49m\u001b[38;5;124;43mmax_bal_bc\u001b[39;49m\u001b[38;5;124;43m'\u001b[39;49m\u001b[43m,\u001b[49m\n\u001b[1;32m     16\u001b[0m \u001b[38;5;124;43m'\u001b[39;49m\u001b[38;5;124;43mmo_sin_old_il_acct\u001b[39;49m\u001b[38;5;124;43m'\u001b[39;49m\u001b[43m,\u001b[49m\n\u001b[1;32m     17\u001b[0m \u001b[38;5;124;43m'\u001b[39;49m\u001b[38;5;124;43mmo_sin_old_rev_tl_op\u001b[39;49m\u001b[38;5;124;43m'\u001b[39;49m\u001b[43m,\u001b[49m\n\u001b[1;32m     18\u001b[0m \u001b[38;5;124;43m'\u001b[39;49m\u001b[38;5;124;43mmo_sin_rcnt_rev_tl_op\u001b[39;49m\u001b[38;5;124;43m'\u001b[39;49m\u001b[43m,\u001b[49m\n\u001b[1;32m     19\u001b[0m \u001b[38;5;124;43m'\u001b[39;49m\u001b[38;5;124;43mmo_sin_rcnt_tl\u001b[39;49m\u001b[38;5;124;43m'\u001b[39;49m\u001b[43m,\u001b[49m\n\u001b[1;32m     20\u001b[0m \u001b[38;5;124;43m'\u001b[39;49m\u001b[38;5;124;43mmort_acc\u001b[39;49m\u001b[38;5;124;43m'\u001b[39;49m\u001b[43m,\u001b[49m\n\u001b[1;32m     21\u001b[0m \u001b[38;5;124;43m'\u001b[39;49m\u001b[38;5;124;43mmths_since_last_major_derog\u001b[39;49m\u001b[38;5;124;43m'\u001b[39;49m\u001b[43m,\u001b[49m\n\u001b[1;32m     22\u001b[0m \u001b[38;5;124;43m'\u001b[39;49m\u001b[38;5;124;43mmths_since_rcnt_il\u001b[39;49m\u001b[38;5;124;43m'\u001b[39;49m\u001b[43m,\u001b[49m\n\u001b[1;32m     23\u001b[0m \u001b[38;5;124;43m'\u001b[39;49m\u001b[38;5;124;43mmths_since_recent_bc\u001b[39;49m\u001b[38;5;124;43m'\u001b[39;49m\u001b[43m,\u001b[49m\n\u001b[1;32m     24\u001b[0m \u001b[38;5;124;43m'\u001b[39;49m\u001b[38;5;124;43mmths_since_recent_bc_dlq\u001b[39;49m\u001b[38;5;124;43m'\u001b[39;49m\u001b[43m,\u001b[49m\n\u001b[1;32m     25\u001b[0m \u001b[38;5;124;43m'\u001b[39;49m\u001b[38;5;124;43mmths_since_recent_inq\u001b[39;49m\u001b[38;5;124;43m'\u001b[39;49m\u001b[43m,\u001b[49m\n\u001b[1;32m     26\u001b[0m \u001b[38;5;124;43m'\u001b[39;49m\u001b[38;5;124;43mmths_since_recent_revol_delinq\u001b[39;49m\u001b[38;5;124;43m'\u001b[39;49m\u001b[43m,\u001b[49m\n\u001b[1;32m     27\u001b[0m \u001b[38;5;124;43m'\u001b[39;49m\u001b[38;5;124;43mnum_accts_ever_120_pd\u001b[39;49m\u001b[38;5;124;43m'\u001b[39;49m\u001b[43m,\u001b[49m\n\u001b[1;32m     28\u001b[0m \u001b[38;5;124;43m'\u001b[39;49m\u001b[38;5;124;43mnum_actv_bc_tl\u001b[39;49m\u001b[38;5;124;43m'\u001b[39;49m\u001b[43m,\u001b[49m\n\u001b[1;32m     29\u001b[0m \u001b[38;5;124;43m'\u001b[39;49m\u001b[38;5;124;43mnum_actv_rev_tl\u001b[39;49m\u001b[38;5;124;43m'\u001b[39;49m\u001b[43m,\u001b[49m\n\u001b[1;32m     30\u001b[0m \u001b[38;5;124;43m'\u001b[39;49m\u001b[38;5;124;43mnum_bc_sats\u001b[39;49m\u001b[38;5;124;43m'\u001b[39;49m\u001b[43m,\u001b[49m\n\u001b[1;32m     31\u001b[0m \u001b[38;5;124;43m'\u001b[39;49m\u001b[38;5;124;43mnum_bc_tl\u001b[39;49m\u001b[38;5;124;43m'\u001b[39;49m\u001b[43m,\u001b[49m\n\u001b[1;32m     32\u001b[0m \u001b[38;5;124;43m'\u001b[39;49m\u001b[38;5;124;43mnum_il_tl\u001b[39;49m\u001b[38;5;124;43m'\u001b[39;49m\u001b[43m,\u001b[49m\n\u001b[1;32m     33\u001b[0m \u001b[38;5;124;43m'\u001b[39;49m\u001b[38;5;124;43mnum_op_rev_tl\u001b[39;49m\u001b[38;5;124;43m'\u001b[39;49m\u001b[43m,\u001b[49m\n\u001b[1;32m     34\u001b[0m \u001b[38;5;124;43m'\u001b[39;49m\u001b[38;5;124;43mnum_rev_accts\u001b[39;49m\u001b[38;5;124;43m'\u001b[39;49m\u001b[43m,\u001b[49m\n\u001b[1;32m     35\u001b[0m \u001b[38;5;124;43m'\u001b[39;49m\u001b[38;5;124;43mnum_rev_tl_bal_gt_0\u001b[39;49m\u001b[38;5;124;43m'\u001b[39;49m\u001b[43m,\u001b[49m\n\u001b[1;32m     36\u001b[0m \u001b[38;5;124;43m'\u001b[39;49m\u001b[38;5;124;43mnum_sats\u001b[39;49m\u001b[38;5;124;43m'\u001b[39;49m\u001b[43m,\u001b[49m\n\u001b[1;32m     37\u001b[0m \u001b[38;5;124;43m'\u001b[39;49m\u001b[38;5;124;43mnum_tl_120dpd_2m\u001b[39;49m\u001b[38;5;124;43m'\u001b[39;49m\u001b[43m,\u001b[49m\n\u001b[1;32m     38\u001b[0m \u001b[38;5;124;43m'\u001b[39;49m\u001b[38;5;124;43mnum_tl_30dpd\u001b[39;49m\u001b[38;5;124;43m'\u001b[39;49m\u001b[43m,\u001b[49m\n\u001b[1;32m     39\u001b[0m \u001b[38;5;124;43m'\u001b[39;49m\u001b[38;5;124;43mnum_tl_90g_dpd_24m\u001b[39;49m\u001b[38;5;124;43m'\u001b[39;49m\u001b[43m,\u001b[49m\n\u001b[1;32m     40\u001b[0m \u001b[38;5;124;43m'\u001b[39;49m\u001b[38;5;124;43mnum_tl_op_past_12m\u001b[39;49m\u001b[38;5;124;43m'\u001b[39;49m\u001b[43m,\u001b[49m\n\u001b[1;32m     41\u001b[0m \u001b[38;5;124;43m'\u001b[39;49m\u001b[38;5;124;43mopen_acc_6m\u001b[39;49m\u001b[38;5;124;43m'\u001b[39;49m\u001b[43m,\u001b[49m\n\u001b[1;32m     42\u001b[0m \u001b[38;5;124;43m'\u001b[39;49m\u001b[38;5;124;43mopen_il_12m\u001b[39;49m\u001b[38;5;124;43m'\u001b[39;49m\u001b[43m,\u001b[49m\n\u001b[1;32m     43\u001b[0m \u001b[38;5;124;43m'\u001b[39;49m\u001b[38;5;124;43mopen_il_24m\u001b[39;49m\u001b[38;5;124;43m'\u001b[39;49m\u001b[43m,\u001b[49m\n\u001b[1;32m     44\u001b[0m \u001b[38;5;124;43m'\u001b[39;49m\u001b[38;5;124;43mopen_il_6m\u001b[39;49m\u001b[38;5;124;43m'\u001b[39;49m\u001b[43m,\u001b[49m\n\u001b[1;32m     45\u001b[0m \u001b[38;5;124;43m'\u001b[39;49m\u001b[38;5;124;43mopen_rv_12m\u001b[39;49m\u001b[38;5;124;43m'\u001b[39;49m\u001b[43m,\u001b[49m\n\u001b[1;32m     46\u001b[0m \u001b[38;5;124;43m'\u001b[39;49m\u001b[38;5;124;43mopen_rv_24m\u001b[39;49m\u001b[38;5;124;43m'\u001b[39;49m\u001b[43m,\u001b[49m\n\u001b[1;32m     47\u001b[0m \u001b[38;5;124;43m'\u001b[39;49m\u001b[38;5;124;43mpct_tl_nvr_dlq\u001b[39;49m\u001b[38;5;124;43m'\u001b[39;49m\u001b[43m,\u001b[49m\n\u001b[1;32m     48\u001b[0m \u001b[38;5;124;43m'\u001b[39;49m\u001b[38;5;124;43mpercent_bc_gt_75\u001b[39;49m\u001b[38;5;124;43m'\u001b[39;49m\u001b[43m,\u001b[49m\n\u001b[1;32m     49\u001b[0m \u001b[38;5;124;43m'\u001b[39;49m\u001b[38;5;124;43mpolicy_code\u001b[39;49m\u001b[38;5;124;43m'\u001b[39;49m\u001b[43m,\u001b[49m\n\u001b[1;32m     50\u001b[0m \u001b[38;5;124;43m'\u001b[39;49m\u001b[38;5;124;43mpymnt_plan\u001b[39;49m\u001b[38;5;124;43m'\u001b[39;49m\u001b[43m,\u001b[49m\n\u001b[1;32m     51\u001b[0m \u001b[38;5;124;43m'\u001b[39;49m\u001b[38;5;124;43mtot_coll_amt\u001b[39;49m\u001b[38;5;124;43m'\u001b[39;49m\u001b[43m,\u001b[49m\n\u001b[1;32m     52\u001b[0m \u001b[38;5;124;43m'\u001b[39;49m\u001b[38;5;124;43mtot_cur_bal\u001b[39;49m\u001b[38;5;124;43m'\u001b[39;49m\u001b[43m,\u001b[49m\n\u001b[1;32m     53\u001b[0m \u001b[38;5;124;43m'\u001b[39;49m\u001b[38;5;124;43mtot_hi_cred_lim\u001b[39;49m\u001b[38;5;124;43m'\u001b[39;49m\u001b[43m,\u001b[49m\n\u001b[1;32m     54\u001b[0m \u001b[38;5;124;43m'\u001b[39;49m\u001b[38;5;124;43mtotal_bal_ex_mort\u001b[39;49m\u001b[38;5;124;43m'\u001b[39;49m\u001b[43m,\u001b[49m\n\u001b[1;32m     55\u001b[0m \u001b[38;5;124;43m'\u001b[39;49m\u001b[38;5;124;43mtotal_bal_il\u001b[39;49m\u001b[38;5;124;43m'\u001b[39;49m\u001b[43m,\u001b[49m\n\u001b[1;32m     56\u001b[0m \u001b[38;5;124;43m'\u001b[39;49m\u001b[38;5;124;43mtotal_bc_limit\u001b[39;49m\u001b[38;5;124;43m'\u001b[39;49m\u001b[43m,\u001b[49m\n\u001b[1;32m     57\u001b[0m \u001b[38;5;124;43m'\u001b[39;49m\u001b[38;5;124;43mtotal_cu_tl\u001b[39;49m\u001b[38;5;124;43m'\u001b[39;49m\u001b[43m,\u001b[49m\n\u001b[1;32m     58\u001b[0m \u001b[38;5;124;43m'\u001b[39;49m\u001b[38;5;124;43mtotal_il_high_credit_limit\u001b[39;49m\u001b[38;5;124;43m'\u001b[39;49m\u001b[43m,\u001b[49m\n\u001b[1;32m     59\u001b[0m \u001b[38;5;124;43m'\u001b[39;49m\u001b[38;5;124;43mtotal_rev_hi_lim\u001b[39;49m\u001b[38;5;124;43m'\u001b[39;49m\u001b[43m,\u001b[49m\n\u001b[1;32m     60\u001b[0m \u001b[38;5;124;43m'\u001b[39;49m\u001b[38;5;124;43mverification_status_joint\u001b[39;49m\u001b[38;5;124;43m'\u001b[39;49m\u001b[43m,\u001b[49m\n\u001b[1;32m     61\u001b[0m \u001b[38;5;124;43m'\u001b[39;49m\u001b[38;5;124;43mmths_since_last_delinq\u001b[39;49m\u001b[38;5;124;43m'\u001b[39;49m\u001b[43m,\u001b[49m\n\u001b[1;32m     62\u001b[0m \u001b[38;5;124;43m'\u001b[39;49m\u001b[38;5;124;43mmths_since_last_record\u001b[39;49m\u001b[38;5;124;43m'\u001b[39;49m\u001b[43m,\u001b[49m\n\u001b[1;32m     63\u001b[0m \u001b[38;5;124;43m'\u001b[39;49m\u001b[38;5;124;43mnext_pymnt_d\u001b[39;49m\u001b[38;5;124;43m'\u001b[39;49m\u001b[43m,\u001b[49m\n\u001b[1;32m     64\u001b[0m \u001b[38;5;124;43m'\u001b[39;49m\u001b[38;5;124;43mchargeoff_within_12_mths\u001b[39;49m\u001b[38;5;124;43m'\u001b[39;49m\u001b[43m,\u001b[49m\n\u001b[1;32m     65\u001b[0m \u001b[38;5;124;43m'\u001b[39;49m\u001b[38;5;124;43mcollections_12_mths_ex_med\u001b[39;49m\u001b[38;5;124;43m'\u001b[39;49m\u001b[43m,\u001b[49m\n\u001b[1;32m     66\u001b[0m \u001b[38;5;124;43m'\u001b[39;49m\u001b[38;5;124;43mdesc\u001b[39;49m\u001b[38;5;124;43m'\u001b[39;49m\u001b[43m,\u001b[49m\n\u001b[1;32m     67\u001b[0m \u001b[38;5;124;43m'\u001b[39;49m\u001b[38;5;124;43memp_length\u001b[39;49m\u001b[38;5;124;43m'\u001b[39;49m\u001b[43m,\u001b[49m\n\u001b[1;32m     68\u001b[0m \u001b[38;5;124;43m'\u001b[39;49m\u001b[38;5;124;43memp_title\u001b[39;49m\u001b[38;5;124;43m'\u001b[39;49m\u001b[43m,\u001b[49m\n\u001b[1;32m     69\u001b[0m \u001b[38;5;124;43m'\u001b[39;49m\u001b[38;5;124;43mid\u001b[39;49m\u001b[38;5;124;43m'\u001b[39;49m\u001b[43m,\u001b[49m\n\u001b[1;32m     70\u001b[0m \u001b[38;5;124;43m'\u001b[39;49m\u001b[38;5;124;43mil_util\u001b[39;49m\u001b[38;5;124;43m'\u001b[39;49m\u001b[43m,\u001b[49m\n\u001b[1;32m     71\u001b[0m \u001b[38;5;124;43m'\u001b[39;49m\u001b[38;5;124;43mopen_rv_12m\u001b[39;49m\u001b[38;5;124;43m'\u001b[39;49m\u001b[43m,\u001b[49m\n\u001b[1;32m     72\u001b[0m \u001b[38;5;124;43m'\u001b[39;49m\u001b[38;5;124;43minitial_list_status\u001b[39;49m\u001b[38;5;124;43m'\u001b[39;49m\u001b[43m,\u001b[49m\n\u001b[1;32m     73\u001b[0m \u001b[38;5;124;43m'\u001b[39;49m\u001b[38;5;124;43mmember_id\u001b[39;49m\u001b[38;5;124;43m'\u001b[39;49m\u001b[43m,\u001b[49m\n\u001b[1;32m     74\u001b[0m \u001b[38;5;124;43m'\u001b[39;49m\u001b[38;5;124;43mpub_rec_bankruptcies\u001b[39;49m\u001b[38;5;124;43m'\u001b[39;49m\u001b[43m,\u001b[49m\n\u001b[1;32m     75\u001b[0m \u001b[38;5;124;43m'\u001b[39;49m\u001b[38;5;124;43mtax_liens\u001b[39;49m\u001b[38;5;124;43m'\u001b[39;49m\u001b[43m,\u001b[49m\n\u001b[1;32m     76\u001b[0m \u001b[38;5;124;43m'\u001b[39;49m\u001b[38;5;124;43murl\u001b[39;49m\u001b[38;5;124;43m'\u001b[39;49m\u001b[43m,\u001b[49m\n\u001b[1;32m     77\u001b[0m \u001b[38;5;124;43m'\u001b[39;49m\u001b[38;5;124;43mzip_code\u001b[39;49m\u001b[38;5;124;43m'\u001b[39;49m\u001b[43m]\u001b[49m\u001b[43m,\u001b[49m\u001b[43m \u001b[49m\u001b[43maxis\u001b[49m\u001b[43m \u001b[49m\u001b[38;5;241;43m=\u001b[39;49m\u001b[43m \u001b[49m\u001b[38;5;241;43m1\u001b[39;49m\u001b[43m,\u001b[49m\u001b[43m \u001b[49m\u001b[43minplace\u001b[49m\u001b[38;5;241;43m=\u001b[39;49m\u001b[38;5;28;43;01mTrue\u001b[39;49;00m\u001b[43m)\u001b[49m\n",
      "File \u001b[0;32m/usr/local/lib/python3.8/site-packages/pandas/util/_decorators.py:311\u001b[0m, in \u001b[0;36mdeprecate_nonkeyword_arguments.<locals>.decorate.<locals>.wrapper\u001b[0;34m(*args, **kwargs)\u001b[0m\n\u001b[1;32m    305\u001b[0m \u001b[38;5;28;01mif\u001b[39;00m \u001b[38;5;28mlen\u001b[39m(args) \u001b[38;5;241m>\u001b[39m num_allow_args:\n\u001b[1;32m    306\u001b[0m     warnings\u001b[38;5;241m.\u001b[39mwarn(\n\u001b[1;32m    307\u001b[0m         msg\u001b[38;5;241m.\u001b[39mformat(arguments\u001b[38;5;241m=\u001b[39marguments),\n\u001b[1;32m    308\u001b[0m         \u001b[38;5;167;01mFutureWarning\u001b[39;00m,\n\u001b[1;32m    309\u001b[0m         stacklevel\u001b[38;5;241m=\u001b[39mstacklevel,\n\u001b[1;32m    310\u001b[0m     )\n\u001b[0;32m--> 311\u001b[0m \u001b[38;5;28;01mreturn\u001b[39;00m \u001b[43mfunc\u001b[49m\u001b[43m(\u001b[49m\u001b[38;5;241;43m*\u001b[39;49m\u001b[43margs\u001b[49m\u001b[43m,\u001b[49m\u001b[43m \u001b[49m\u001b[38;5;241;43m*\u001b[39;49m\u001b[38;5;241;43m*\u001b[39;49m\u001b[43mkwargs\u001b[49m\u001b[43m)\u001b[49m\n",
      "File \u001b[0;32m/usr/local/lib/python3.8/site-packages/pandas/core/frame.py:4948\u001b[0m, in \u001b[0;36mDataFrame.drop\u001b[0;34m(self, labels, axis, index, columns, level, inplace, errors)\u001b[0m\n\u001b[1;32m   4800\u001b[0m \u001b[38;5;129m@deprecate_nonkeyword_arguments\u001b[39m(version\u001b[38;5;241m=\u001b[39m\u001b[38;5;28;01mNone\u001b[39;00m, allowed_args\u001b[38;5;241m=\u001b[39m[\u001b[38;5;124m\"\u001b[39m\u001b[38;5;124mself\u001b[39m\u001b[38;5;124m\"\u001b[39m, \u001b[38;5;124m\"\u001b[39m\u001b[38;5;124mlabels\u001b[39m\u001b[38;5;124m\"\u001b[39m])\n\u001b[1;32m   4801\u001b[0m \u001b[38;5;28;01mdef\u001b[39;00m \u001b[38;5;21mdrop\u001b[39m(\n\u001b[1;32m   4802\u001b[0m     \u001b[38;5;28mself\u001b[39m,\n\u001b[0;32m   (...)\u001b[0m\n\u001b[1;32m   4809\u001b[0m     errors: \u001b[38;5;28mstr\u001b[39m \u001b[38;5;241m=\u001b[39m \u001b[38;5;124m\"\u001b[39m\u001b[38;5;124mraise\u001b[39m\u001b[38;5;124m\"\u001b[39m,\n\u001b[1;32m   4810\u001b[0m ):\n\u001b[1;32m   4811\u001b[0m     \u001b[38;5;124;03m\"\"\"\u001b[39;00m\n\u001b[1;32m   4812\u001b[0m \u001b[38;5;124;03m    Drop specified labels from rows or columns.\u001b[39;00m\n\u001b[1;32m   4813\u001b[0m \n\u001b[0;32m   (...)\u001b[0m\n\u001b[1;32m   4946\u001b[0m \u001b[38;5;124;03m            weight  1.0     0.8\u001b[39;00m\n\u001b[1;32m   4947\u001b[0m \u001b[38;5;124;03m    \"\"\"\u001b[39;00m\n\u001b[0;32m-> 4948\u001b[0m     \u001b[38;5;28;01mreturn\u001b[39;00m \u001b[38;5;28;43msuper\u001b[39;49m\u001b[43m(\u001b[49m\u001b[43m)\u001b[49m\u001b[38;5;241;43m.\u001b[39;49m\u001b[43mdrop\u001b[49m\u001b[43m(\u001b[49m\n\u001b[1;32m   4949\u001b[0m \u001b[43m        \u001b[49m\u001b[43mlabels\u001b[49m\u001b[38;5;241;43m=\u001b[39;49m\u001b[43mlabels\u001b[49m\u001b[43m,\u001b[49m\n\u001b[1;32m   4950\u001b[0m \u001b[43m        \u001b[49m\u001b[43maxis\u001b[49m\u001b[38;5;241;43m=\u001b[39;49m\u001b[43maxis\u001b[49m\u001b[43m,\u001b[49m\n\u001b[1;32m   4951\u001b[0m \u001b[43m        \u001b[49m\u001b[43mindex\u001b[49m\u001b[38;5;241;43m=\u001b[39;49m\u001b[43mindex\u001b[49m\u001b[43m,\u001b[49m\n\u001b[1;32m   4952\u001b[0m \u001b[43m        \u001b[49m\u001b[43mcolumns\u001b[49m\u001b[38;5;241;43m=\u001b[39;49m\u001b[43mcolumns\u001b[49m\u001b[43m,\u001b[49m\n\u001b[1;32m   4953\u001b[0m \u001b[43m        \u001b[49m\u001b[43mlevel\u001b[49m\u001b[38;5;241;43m=\u001b[39;49m\u001b[43mlevel\u001b[49m\u001b[43m,\u001b[49m\n\u001b[1;32m   4954\u001b[0m \u001b[43m        \u001b[49m\u001b[43minplace\u001b[49m\u001b[38;5;241;43m=\u001b[39;49m\u001b[43minplace\u001b[49m\u001b[43m,\u001b[49m\n\u001b[1;32m   4955\u001b[0m \u001b[43m        \u001b[49m\u001b[43merrors\u001b[49m\u001b[38;5;241;43m=\u001b[39;49m\u001b[43merrors\u001b[49m\u001b[43m,\u001b[49m\n\u001b[1;32m   4956\u001b[0m \u001b[43m    \u001b[49m\u001b[43m)\u001b[49m\n",
      "File \u001b[0;32m/usr/local/lib/python3.8/site-packages/pandas/core/generic.py:4279\u001b[0m, in \u001b[0;36mNDFrame.drop\u001b[0;34m(self, labels, axis, index, columns, level, inplace, errors)\u001b[0m\n\u001b[1;32m   4277\u001b[0m \u001b[38;5;28;01mfor\u001b[39;00m axis, labels \u001b[38;5;129;01min\u001b[39;00m axes\u001b[38;5;241m.\u001b[39mitems():\n\u001b[1;32m   4278\u001b[0m     \u001b[38;5;28;01mif\u001b[39;00m labels \u001b[38;5;129;01mis\u001b[39;00m \u001b[38;5;129;01mnot\u001b[39;00m \u001b[38;5;28;01mNone\u001b[39;00m:\n\u001b[0;32m-> 4279\u001b[0m         obj \u001b[38;5;241m=\u001b[39m \u001b[43mobj\u001b[49m\u001b[38;5;241;43m.\u001b[39;49m\u001b[43m_drop_axis\u001b[49m\u001b[43m(\u001b[49m\u001b[43mlabels\u001b[49m\u001b[43m,\u001b[49m\u001b[43m \u001b[49m\u001b[43maxis\u001b[49m\u001b[43m,\u001b[49m\u001b[43m \u001b[49m\u001b[43mlevel\u001b[49m\u001b[38;5;241;43m=\u001b[39;49m\u001b[43mlevel\u001b[49m\u001b[43m,\u001b[49m\u001b[43m \u001b[49m\u001b[43merrors\u001b[49m\u001b[38;5;241;43m=\u001b[39;49m\u001b[43merrors\u001b[49m\u001b[43m)\u001b[49m\n\u001b[1;32m   4281\u001b[0m \u001b[38;5;28;01mif\u001b[39;00m inplace:\n\u001b[1;32m   4282\u001b[0m     \u001b[38;5;28mself\u001b[39m\u001b[38;5;241m.\u001b[39m_update_inplace(obj)\n",
      "File \u001b[0;32m/usr/local/lib/python3.8/site-packages/pandas/core/generic.py:4323\u001b[0m, in \u001b[0;36mNDFrame._drop_axis\u001b[0;34m(self, labels, axis, level, errors, consolidate, only_slice)\u001b[0m\n\u001b[1;32m   4321\u001b[0m         new_axis \u001b[38;5;241m=\u001b[39m axis\u001b[38;5;241m.\u001b[39mdrop(labels, level\u001b[38;5;241m=\u001b[39mlevel, errors\u001b[38;5;241m=\u001b[39merrors)\n\u001b[1;32m   4322\u001b[0m     \u001b[38;5;28;01melse\u001b[39;00m:\n\u001b[0;32m-> 4323\u001b[0m         new_axis \u001b[38;5;241m=\u001b[39m \u001b[43maxis\u001b[49m\u001b[38;5;241;43m.\u001b[39;49m\u001b[43mdrop\u001b[49m\u001b[43m(\u001b[49m\u001b[43mlabels\u001b[49m\u001b[43m,\u001b[49m\u001b[43m \u001b[49m\u001b[43merrors\u001b[49m\u001b[38;5;241;43m=\u001b[39;49m\u001b[43merrors\u001b[49m\u001b[43m)\u001b[49m\n\u001b[1;32m   4324\u001b[0m     indexer \u001b[38;5;241m=\u001b[39m axis\u001b[38;5;241m.\u001b[39mget_indexer(new_axis)\n\u001b[1;32m   4326\u001b[0m \u001b[38;5;66;03m# Case for non-unique axis\u001b[39;00m\n\u001b[1;32m   4327\u001b[0m \u001b[38;5;28;01melse\u001b[39;00m:\n",
      "File \u001b[0;32m/usr/local/lib/python3.8/site-packages/pandas/core/indexes/base.py:6644\u001b[0m, in \u001b[0;36mIndex.drop\u001b[0;34m(self, labels, errors)\u001b[0m\n\u001b[1;32m   6642\u001b[0m \u001b[38;5;28;01mif\u001b[39;00m mask\u001b[38;5;241m.\u001b[39many():\n\u001b[1;32m   6643\u001b[0m     \u001b[38;5;28;01mif\u001b[39;00m errors \u001b[38;5;241m!=\u001b[39m \u001b[38;5;124m\"\u001b[39m\u001b[38;5;124mignore\u001b[39m\u001b[38;5;124m\"\u001b[39m:\n\u001b[0;32m-> 6644\u001b[0m         \u001b[38;5;28;01mraise\u001b[39;00m \u001b[38;5;167;01mKeyError\u001b[39;00m(\u001b[38;5;124mf\u001b[39m\u001b[38;5;124m\"\u001b[39m\u001b[38;5;132;01m{\u001b[39;00m\u001b[38;5;28mlist\u001b[39m(labels[mask])\u001b[38;5;132;01m}\u001b[39;00m\u001b[38;5;124m not found in axis\u001b[39m\u001b[38;5;124m\"\u001b[39m)\n\u001b[1;32m   6645\u001b[0m     indexer \u001b[38;5;241m=\u001b[39m indexer[\u001b[38;5;241m~\u001b[39mmask]\n\u001b[1;32m   6646\u001b[0m \u001b[38;5;28;01mreturn\u001b[39;00m \u001b[38;5;28mself\u001b[39m\u001b[38;5;241m.\u001b[39mdelete(indexer)\n",
      "\u001b[0;31mKeyError\u001b[0m: \"['acc_now_delinq', 'acc_open_past_24mths', 'all_util', 'annual_inc_joint', 'application_type', 'avg_cur_bal', 'bc_open_to_buy', 'bc_util', 'delinq_amnt', 'dti_joint', 'il_util', 'initial_list_status', 'inq_fi', 'inq_last_12m', 'max_bal_bc', 'mo_sin_old_il_acct', 'mo_sin_old_rev_tl_op', 'mo_sin_rcnt_rev_tl_op', 'mo_sin_rcnt_tl', 'mort_acc', 'mths_since_last_major_derog', 'mths_since_rcnt_il', 'mths_since_recent_bc', 'mths_since_recent_bc_dlq', 'mths_since_recent_inq', 'mths_since_recent_revol_delinq', 'num_accts_ever_120_pd', 'num_actv_bc_tl', 'num_actv_rev_tl', 'num_bc_sats', 'num_bc_tl', 'num_il_tl', 'num_op_rev_tl', 'num_rev_accts', 'num_rev_tl_bal_gt_0', 'num_sats', 'num_tl_120dpd_2m', 'num_tl_30dpd', 'num_tl_90g_dpd_24m', 'num_tl_op_past_12m', 'open_acc_6m', 'open_il_12m', 'open_il_24m', 'open_il_6m', 'open_rv_12m', 'open_rv_24m', 'pct_tl_nvr_dlq', 'percent_bc_gt_75', 'policy_code', 'pymnt_plan', 'tot_coll_amt', 'tot_cur_bal', 'tot_hi_cred_lim', 'total_bal_ex_mort', 'total_bal_il', 'total_bc_limit', 'total_cu_tl', 'total_il_high_credit_limit', 'total_rev_hi_lim', 'verification_status_joint', 'mths_since_last_delinq', 'mths_since_last_record', 'next_pymnt_d', 'chargeoff_within_12_mths', 'collections_12_mths_ex_med', 'desc', 'emp_length', 'emp_title', 'id', 'il_util', 'open_rv_12m', 'initial_list_status', 'member_id', 'pub_rec_bankruptcies', 'tax_liens', 'url', 'zip_code'] not found in axis\""
     ]
    }
   ],
   "source": [
    "loans.drop (['acc_now_delinq',\n",
    "'acc_open_past_24mths',\n",
    "'all_util',\n",
    "'annual_inc_joint',\n",
    "'application_type',\n",
    "'avg_cur_bal',\n",
    "'bc_open_to_buy',\n",
    "'bc_util',\n",
    "'delinq_amnt',\n",
    "'dti_joint',\n",
    "'il_util',\n",
    "'initial_list_status',\n",
    "'inq_fi',\n",
    "'inq_last_12m',\n",
    "'max_bal_bc',\n",
    "'mo_sin_old_il_acct',\n",
    "'mo_sin_old_rev_tl_op',\n",
    "'mo_sin_rcnt_rev_tl_op',\n",
    "'mo_sin_rcnt_tl',\n",
    "'mort_acc',\n",
    "'mths_since_last_major_derog',\n",
    "'mths_since_rcnt_il',\n",
    "'mths_since_recent_bc',\n",
    "'mths_since_recent_bc_dlq',\n",
    "'mths_since_recent_inq',\n",
    "'mths_since_recent_revol_delinq',\n",
    "'num_accts_ever_120_pd',\n",
    "'num_actv_bc_tl',\n",
    "'num_actv_rev_tl',\n",
    "'num_bc_sats',\n",
    "'num_bc_tl',\n",
    "'num_il_tl',\n",
    "'num_op_rev_tl',\n",
    "'num_rev_accts',\n",
    "'num_rev_tl_bal_gt_0',\n",
    "'num_sats',\n",
    "'num_tl_120dpd_2m',\n",
    "'num_tl_30dpd',\n",
    "'num_tl_90g_dpd_24m',\n",
    "'num_tl_op_past_12m',\n",
    "'open_acc_6m',\n",
    "'open_il_12m',\n",
    "'open_il_24m',\n",
    "'open_il_6m',\n",
    "'open_rv_12m',\n",
    "'open_rv_24m',\n",
    "'pct_tl_nvr_dlq',\n",
    "'percent_bc_gt_75',\n",
    "'policy_code',\n",
    "'pymnt_plan',\n",
    "'tot_coll_amt',\n",
    "'tot_cur_bal',\n",
    "'tot_hi_cred_lim',\n",
    "'total_bal_ex_mort',\n",
    "'total_bal_il',\n",
    "'total_bc_limit',\n",
    "'total_cu_tl',\n",
    "'total_il_high_credit_limit',\n",
    "'total_rev_hi_lim',\n",
    "'verification_status_joint',\n",
    "'mths_since_last_delinq',\n",
    "'mths_since_last_record',\n",
    "'next_pymnt_d',\n",
    "'chargeoff_within_12_mths',\n",
    "'collections_12_mths_ex_med',\n",
    "'desc',\n",
    "'emp_length',\n",
    "'emp_title',\n",
    "'id',\n",
    "'il_util',\n",
    "'open_rv_12m',\n",
    "'initial_list_status',\n",
    "'member_id',\n",
    "'pub_rec_bankruptcies',\n",
    "'tax_liens',\n",
    "'url',\n",
    "'zip_code'], axis = 1, inplace=True)\n"
   ]
  },
  {
   "cell_type": "code",
   "execution_count": 67,
   "id": "9df2bfc4",
   "metadata": {},
   "outputs": [
    {
     "name": "stdout",
     "output_type": "stream",
     "text": [
      "38577\n",
      "38577\n",
      "['Fully Paid' 'Charged Off']\n"
     ]
    }
   ],
   "source": [
    "\n",
    "print (len(loans['loan_status']))\n",
    "\n",
    "#39717\n",
    "\n",
    "#Removed the rows which has loan_status == Current\n",
    "\n",
    "loans = loans[loans['loan_status'] != 'Current']\n",
    "print (len(loans['loan_status']))\n",
    "\n",
    "#Total Rows without = \"Current\"\n",
    "print (pd.unique(loans['loan_status']))"
   ]
  },
  {
   "cell_type": "code",
   "execution_count": 69,
   "id": "a471c6a6",
   "metadata": {},
   "outputs": [
    {
     "data": {
      "text/html": [
       "<div>\n",
       "<style scoped>\n",
       "    .dataframe tbody tr th:only-of-type {\n",
       "        vertical-align: middle;\n",
       "    }\n",
       "\n",
       "    .dataframe tbody tr th {\n",
       "        vertical-align: top;\n",
       "    }\n",
       "\n",
       "    .dataframe thead th {\n",
       "        text-align: right;\n",
       "    }\n",
       "</style>\n",
       "<table border=\"1\" class=\"dataframe\">\n",
       "  <thead>\n",
       "    <tr style=\"text-align: right;\">\n",
       "      <th></th>\n",
       "      <th>counts</th>\n",
       "      <th>per</th>\n",
       "      <th>per100</th>\n",
       "    </tr>\n",
       "  </thead>\n",
       "  <tbody>\n",
       "    <tr>\n",
       "      <th>Fully Paid</th>\n",
       "      <td>32950</td>\n",
       "      <td>0.854136</td>\n",
       "      <td>85.4%</td>\n",
       "    </tr>\n",
       "    <tr>\n",
       "      <th>Charged Off</th>\n",
       "      <td>5627</td>\n",
       "      <td>0.145864</td>\n",
       "      <td>14.6%</td>\n",
       "    </tr>\n",
       "  </tbody>\n",
       "</table>\n",
       "</div>"
      ],
      "text/plain": [
       "             counts       per per100\n",
       "Fully Paid    32950  0.854136  85.4%\n",
       "Charged Off    5627  0.145864  14.6%"
      ]
     },
     "execution_count": 69,
     "metadata": {},
     "output_type": "execute_result"
    }
   ],
   "source": [
    "#Percentage of data which is distributed in this two segment \"['Fully Paid' 'Charged Off']\"\n",
    "\n",
    "s = loans.loan_status\n",
    "#print(s)\n",
    "counts = s.value_counts()\n",
    "percent = s.value_counts(normalize=True)\n",
    "percent100 = s.value_counts(normalize=True).mul(100).round(1).astype(str) + '%'\n",
    "pd.DataFrame({'counts': counts, 'per': percent, 'per100': percent100})"
   ]
  },
  {
   "cell_type": "code",
   "execution_count": 80,
   "id": "667b5901",
   "metadata": {},
   "outputs": [
    {
     "data": {
      "image/png": "[encoded data removed]",
      "text/plain": [
       "<Figure size 432x288 with 1 Axes>"
      ]
     },
     "metadata": {
      "needs_background": "light"
     },
     "output_type": "display_data"
    },
    {
     "name": "stdout",
     "output_type": "stream",
     "text": [
      "median = 58868.0 max = 6000000.0\n",
      "loan_status     \n",
      "Charged Off  0.5    53000.0\n",
      "Fully Paid   0.5    60000.0\n",
      "Name: annual_inc, dtype: float64\n",
      "loan_status      \n",
      "Charged Off  0.75    75000.0\n",
      "Fully Paid   0.75    84000.0\n",
      "Name: annual_inc, dtype: float64\n",
      "loan_status     \n",
      "Charged Off  1.0    1250000.0\n",
      "Fully Paid   1.0    6000000.0\n",
      "Name: annual_inc, dtype: float64\n",
      "loan_status      \n",
      "Charged Off  0.95    129697.2\n",
      "Fully Paid   0.95    144000.0\n",
      "Name: annual_inc, dtype: float64\n",
      "loan_status      \n",
      "Charged Off  0.75    74000.0\n",
      "Fully Paid   0.75    81085.0\n",
      "Name: annual_inc, dtype: float64\n"
     ]
    },
    {
     "data": {
      "image/png": "[encoded data removed]",
      "text/plain": [
       "<Figure size 432x288 with 1 Axes>"
      ]
     },
     "metadata": {
      "needs_background": "light"
     },
     "output_type": "display_data"
    }
   ],
   "source": [
    "#Understanding of the annual_inc \n",
    "\n",
    "plt.hist(loans['annual_inc'])\n",
    "plt.show()\n",
    "\n",
    "print (\"median = {0} max = {1}\".format( loans['annual_inc'].median(), loans['annual_inc'].max()))\n",
    "\n",
    "print(loans.groupby('loan_status').annual_inc.quantile([0.50]))\n",
    "print(loans.groupby('loan_status').annual_inc.quantile([0.75]))\n",
    "print(loans.groupby('loan_status').annual_inc.quantile([1]))\n",
    "print(loans.groupby('loan_status').annual_inc.quantile([0.95]))\n",
    "\n",
    "#It has been identified that the outlier in annual_inc is more than 200000\n",
    "print(loans[loans.annual_inc < 200000].groupby('loan_status').annual_inc.quantile([0.75]))\n",
    "\n",
    "#But there is no impact of the 0.75 quantile\n",
    "plt.scatter(loans['loan_status'],loans['annual_inc'])\n",
    "plt.show()\n",
    "\n",
    "\n"
   ]
  },
  {
   "cell_type": "code",
   "execution_count": 82,
   "id": "6be06ce0",
   "metadata": {},
   "outputs": [
    {
     "name": "stdout",
     "output_type": "stream",
     "text": [
      "home_ownership  loan_status\n",
      "MORTGAGE        Charged Off     2327\n",
      "                Fully Paid     14694\n",
      "NONE            Fully Paid         3\n",
      "OTHER           Charged Off       18\n",
      "                Fully Paid        80\n",
      "OWN             Charged Off      443\n",
      "                Fully Paid      2532\n",
      "RENT            Charged Off     2839\n",
      "                Fully Paid     15641\n",
      "Name: loan_status, dtype: int64\n",
      "home_ownership\n",
      "MORTGAGE    17021\n",
      "NONE            3\n",
      "OTHER          98\n",
      "OWN          2975\n",
      "RENT        18480\n",
      "Name: loan_status, dtype: int64\n",
      "home_ownership  loan_status\n",
      "MORTGAGE        Charged Off     13.671347\n",
      "                Fully Paid      86.328653\n",
      "NONE            Fully Paid     100.000000\n",
      "OTHER           Charged Off     18.367347\n",
      "                Fully Paid      81.632653\n",
      "OWN             Charged Off     14.890756\n",
      "                Fully Paid      85.109244\n",
      "RENT            Charged Off     15.362554\n",
      "                Fully Paid      84.637446\n",
      "Name: loan_status, dtype: float64\n"
     ]
    }
   ],
   "source": [
    "#Analysis home_ownership\n",
    "\n",
    "loans_ownership_loanstatus = loans.groupby(['home_ownership','loan_status']).loan_status.count()\n",
    "print(loans_ownership_loanstatus)\n",
    "loans_ownership = loans.groupby(['home_ownership']).loan_status.count()\n",
    "print(loans_ownership)\n",
    "loans_ownership_loanstatus = loans_ownership_loanstatus.div(loans_ownership, level = 'home_ownership') * 100\n",
    "print(loans_ownership_loanstatus)\n",
    "\n",
    "#The above data clarifies that there is a very less change in the percentage contribution to the loan status"
   ]
  },
  {
   "cell_type": "code",
   "execution_count": 84,
   "id": "0b384866",
   "metadata": {},
   "outputs": [
    {
     "name": "stdout",
     "output_type": "stream",
     "text": [
      "                                 loan_status  percentage\n",
      "verification_status loan_status                         \n",
      "Not Verified        Charged Off         2142   12.830957\n",
      "                    Fully Paid         14552   87.169043\n",
      "Source Verified     Charged Off         1434   14.818642\n",
      "                    Fully Paid          8243   85.181358\n",
      "Verified            Charged Off         2051   16.803212\n",
      "                    Fully Paid         10155   83.196788\n"
     ]
    }
   ],
   "source": [
    "#Analysis on verification_status\n",
    "\n",
    "\n",
    "loans_verification_status = loans.groupby(['verification_status','loan_status']).agg({'loan_status': 'count'})\n",
    "loans_verification_status['percentage'] = 100 * loans_verification_status['loan_status'] / loans_verification_status.groupby('verification_status')['loan_status'].transform('sum')\n",
    "print(loans_verification_status)\n",
    "\n",
    "\n",
    "#Not Verified source has lesser charged off percentage"
   ]
  },
  {
   "cell_type": "code",
   "execution_count": 86,
   "id": "23c676f8",
   "metadata": {},
   "outputs": [
    {
     "name": "stdout",
     "output_type": "stream",
     "text": [
      "                                loan_status  percentage\n",
      "purpose            loan_status                         \n",
      "car                Charged Off          160   10.673783\n",
      "                   Fully Paid          1339   89.326217\n",
      "credit_card        Charged Off          542   10.781778\n",
      "                   Fully Paid          4485   89.218222\n",
      "debt_consolidation Charged Off         2767   15.325395\n",
      "                   Fully Paid         15288   84.674605\n",
      "educational        Charged Off           56   17.230769\n",
      "                   Fully Paid           269   82.769231\n",
      "home_improvement   Charged Off          347   12.069565\n",
      "                   Fully Paid          2528   87.930435\n",
      "house              Charged Off           59   16.076294\n",
      "                   Fully Paid           308   83.923706\n",
      "major_purchase     Charged Off          222   10.325581\n",
      "                   Fully Paid          1928   89.674419\n",
      "medical            Charged Off          106   15.565345\n",
      "                   Fully Paid           575   84.434655\n",
      "moving             Charged Off           92   15.972222\n",
      "                   Fully Paid           484   84.027778\n",
      "other              Charged Off          633   16.377749\n",
      "                   Fully Paid          3232   83.622251\n",
      "renewable_energy   Charged Off           19   18.627451\n",
      "                   Fully Paid            83   81.372549\n",
      "small_business     Charged Off          475   27.080958\n",
      "                   Fully Paid          1279   72.919042\n",
      "vacation           Charged Off           53   14.133333\n",
      "                   Fully Paid           322   85.866667\n",
      "wedding            Charged Off           96   10.367171\n",
      "                   Fully Paid           830   89.632829\n"
     ]
    }
   ],
   "source": [
    "#Analysis on purpose\n",
    "\n",
    "\n",
    "loans_purpose = loans.groupby(['purpose','loan_status']).agg({'loan_status': 'count'})\n",
    "loans_purpose['percentage'] = 100 * loans_purpose['loan_status'] / loans_purpose.groupby('purpose')['loan_status'].transform('sum')\n",
    "print(loans_purpose)\n",
    "\n",
    "\n",
    "#purpose has highest number charged off percentage for 'renewable_energy', 'small_business' more than 18%\n",
    "\n",
    "\n"
   ]
  },
  {
   "cell_type": "code",
   "execution_count": 87,
   "id": "9d1a596d",
   "metadata": {},
   "outputs": [
    {
     "name": "stdout",
     "output_type": "stream",
     "text": [
      "                        loan_status  percentage\n",
      "addr_state loan_status                         \n",
      "AK         Charged Off           15   19.230769\n",
      "           Fully Paid            63   80.769231\n",
      "AL         Charged Off           54   12.413793\n",
      "           Fully Paid           381   87.586207\n",
      "AR         Charged Off           27   11.489362\n",
      "...                             ...         ...\n",
      "WI         Fully Paid           377   85.681818\n",
      "WV         Charged Off           21   12.209302\n",
      "           Fully Paid           151   87.790698\n",
      "WY         Charged Off            4    5.000000\n",
      "           Fully Paid            76   95.000000\n",
      "\n",
      "[97 rows x 2 columns]\n"
     ]
    }
   ],
   "source": [
    "#Analysis on addr_state\n",
    "\n",
    "\n",
    "loans_addr_state = loans.groupby(['addr_state','loan_status']).agg({'loan_status': 'count'})\n",
    "loans_addr_state['percentage'] = 100 * loans_addr_state['loan_status'] / loans_addr_state.groupby('addr_state')['loan_status'].transform('sum')\n",
    "print(loans_addr_state)\n",
    "\n",
    "\n",
    "#addr_state -- no big impact\n",
    "\n"
   ]
  },
  {
   "cell_type": "code",
   "execution_count": 89,
   "id": "2e5b09d9",
   "metadata": {},
   "outputs": [
    {
     "name": "stdout",
     "output_type": "stream",
     "text": [
      "                   loan_status_count  percentage\n",
      "grade loan_status                               \n",
      "A     Charged Off                602    5.993031\n",
      "      Fully Paid                9443   94.006969\n",
      "B     Charged Off               1425   12.205567\n",
      "      Fully Paid               10250   87.794433\n",
      "C     Charged Off               1347   17.194281\n",
      "      Fully Paid                6487   82.805719\n",
      "D     Charged Off               1118   21.986234\n",
      "      Fully Paid                3967   78.013766\n",
      "E     Charged Off                715   26.849418\n",
      "      Fully Paid                1948   73.150582\n",
      "F     Charged Off                319   32.684426\n",
      "      Fully Paid                 657   67.315574\n",
      "G     Charged Off                101   33.779264\n",
      "      Fully Paid                 198   66.220736\n"
     ]
    }
   ],
   "source": [
    "#Analysis on grade\n",
    "\n",
    "\n",
    "\n",
    "\n",
    "loans_grade = loans.groupby(['grade','loan_status']).agg({'loan_status': 'count'})\n",
    "loans_grade['percentage'] = 100 * loans_grade['loan_status'] / loans_grade.groupby('grade')['loan_status'].transform('sum')\n",
    "loans_grade.rename(columns={\"loan_status\": \"loan_status_count\"}, inplace=True)\n",
    "loans_grade.reset_index()\n",
    "print(loans_grade)\n",
    "\n",
    "\n",
    "#grade -- Grade D E G and F has highest number of charged offs  more than 21%\n",
    "\n"
   ]
  },
  {
   "cell_type": "code",
   "execution_count": 91,
   "id": "bc7496de",
   "metadata": {},
   "outputs": [
    {
     "name": "stdout",
     "output_type": "stream",
     "text": [
      "                       loan_status  percentage\n",
      "sub_grade loan_status                         \n",
      "A1        Charged Off           30    2.633889\n",
      "          Fully Paid          1109   97.366111\n",
      "A2        Charged Off           74    4.907162\n",
      "          Fully Paid          1434   95.092838\n",
      "A3        Charged Off          103    5.690608\n",
      "...                            ...         ...\n",
      "G3        Fully Paid            26   57.777778\n",
      "G4        Charged Off           13   24.074074\n",
      "          Fully Paid            41   75.925926\n",
      "G5        Charged Off           10   34.482759\n",
      "          Fully Paid            19   65.517241\n",
      "\n",
      "[70 rows x 2 columns]\n"
     ]
    }
   ],
   "source": [
    "#Analysis on sub_grade\n",
    "\n",
    "\n",
    "loans_sub_grade = loans.groupby(['sub_grade','loan_status']).agg({'loan_status': 'count'})\n",
    "loans_sub_grade['percentage'] = 100 * loans_sub_grade['loan_status'] / loans_sub_grade.groupby('sub_grade')['loan_status'].transform('sum')\n",
    "print(loans_sub_grade)\n",
    "\n",
    "\n",
    "#sub_grade -- Lower the sub_grade Further increases the charged off percentage"
   ]
  },
  {
   "cell_type": "code",
   "execution_count": 93,
   "id": "8097a5b9",
   "metadata": {},
   "outputs": [
    {
     "name": "stdout",
     "output_type": "stream",
     "text": [
      "                   home_ownership  percentage\n",
      "grade loan_status                            \n",
      "A     Charged Off             602    5.993031\n",
      "      Fully Paid             9443   94.006969\n",
      "B     Charged Off            1425   12.205567\n",
      "      Fully Paid            10250   87.794433\n",
      "C     Charged Off            1347   17.194281\n",
      "      Fully Paid             6487   82.805719\n",
      "D     Charged Off            1118   21.986234\n",
      "      Fully Paid             3967   78.013766\n",
      "E     Charged Off             715   26.849418\n",
      "      Fully Paid             1948   73.150582\n",
      "F     Charged Off             319   32.684426\n",
      "      Fully Paid              657   67.315574\n",
      "G     Charged Off             101   33.779264\n",
      "      Fully Paid              198   66.220736\n"
     ]
    },
    {
     "data": {
      "text/plain": [
       "<AxesSubplot:xlabel='grade,loan_status'>"
      ]
     },
     "execution_count": 93,
     "metadata": {},
     "output_type": "execute_result"
    },
    {
     "data": {
      "image/png": "[encoded data removed]",
      "text/plain": [
       "<Figure size 432x288 with 1 Axes>"
      ]
     },
     "metadata": {
      "needs_background": "light"
     },
     "output_type": "display_data"
    }
   ],
   "source": [
    "#Analysis grade using pivot table\n",
    "pivot = loans.pivot_table(index =['grade','loan_status'], \n",
    "                       values =['home_ownership'], aggfunc ='count')\n",
    "\n",
    "\n",
    "#table['% of Total'] = (table.C / table.C.sum() * 100).astype(str) + '%'\n",
    "pivot['percentage'] = (pivot.home_ownership / pivot.groupby(level=0).home_ownership.transform(sum) * 100)\n",
    "print(pivot)\n",
    "pivot.plot.bar(y='percentage')"
   ]
  },
  {
   "cell_type": "code",
   "execution_count": 95,
   "id": "ba374fc3",
   "metadata": {},
   "outputs": [
    {
     "name": "stdout",
     "output_type": "stream",
     "text": [
      "                        home_ownership  percentage\n",
      "addr_state loan_status                            \n",
      "AK         Charged Off              15   19.230769\n",
      "           Fully Paid               63   80.769231\n",
      "AL         Charged Off              54   12.413793\n",
      "           Fully Paid              381   87.586207\n",
      "AR         Charged Off              27   11.489362\n",
      "...                                ...         ...\n",
      "WI         Fully Paid              377   85.681818\n",
      "WV         Charged Off              21   12.209302\n",
      "           Fully Paid              151   87.790698\n",
      "WY         Charged Off               4    5.000000\n",
      "           Fully Paid               76   95.000000\n",
      "\n",
      "[97 rows x 2 columns]\n"
     ]
    },
    {
     "data": {
      "text/plain": [
       "<AxesSubplot:xlabel='addr_state,loan_status'>"
      ]
     },
     "execution_count": 95,
     "metadata": {},
     "output_type": "execute_result"
    },
    {
     "data": {
      "image/png": "[encoded data removed]",
      "text/plain": [
       "<Figure size 432x288 with 1 Axes>"
      ]
     },
     "metadata": {
      "needs_background": "light"
     },
     "output_type": "display_data"
    }
   ],
   "source": [
    "#Analysis addr_state using using pivot table\n",
    "pivot = loans.pivot_table(index =['addr_state','loan_status'], \n",
    "                       values =['home_ownership'], aggfunc ='count')\n",
    "\n",
    "\n",
    "#table['% of Total'] = (table.C / table.C.sum() * 100).astype(str) + '%'\n",
    "pivot['percentage'] = (pivot.home_ownership / pivot.groupby(level=0).home_ownership.transform(sum) * 100)\n",
    "\n",
    "\n",
    "print(pivot)\n",
    "pivot.plot.figsize = (6,6)\n",
    "pivot.plot.bar(y='percentage')\n",
    "\n",
    "#Conclusion - no such impact"
   ]
  },
  {
   "cell_type": "code",
   "execution_count": 97,
   "id": "0f7942c4",
   "metadata": {},
   "outputs": [
    {
     "name": "stdout",
     "output_type": "stream",
     "text": [
      "                         home_ownership  percentage\n",
      "delinq_2yrs loan_status                            \n",
      "0           Charged Off            4936   14.354679\n",
      "            Fully Paid            29450   85.645321\n",
      "1           Charged Off             507   15.809167\n",
      "            Fully Paid             2700   84.190833\n",
      "2           Charged Off             130   19.316493\n",
      "            Fully Paid              543   80.683507\n",
      "3           Charged Off              35   16.509434\n",
      "            Fully Paid              177   83.490566\n",
      "4           Charged Off              13   21.666667\n",
      "            Fully Paid               47   78.333333\n",
      "5           Charged Off               3   14.285714\n",
      "            Fully Paid               18   85.714286\n",
      "6           Charged Off               1   10.000000\n",
      "            Fully Paid                9   90.000000\n",
      "7           Charged Off               1   25.000000\n",
      "            Fully Paid                3   75.000000\n",
      "8           Charged Off               1   50.000000\n",
      "            Fully Paid                1   50.000000\n",
      "9           Fully Paid                1  100.000000\n",
      "11          Fully Paid                1  100.000000\n"
     ]
    },
    {
     "data": {
      "text/plain": [
       "<AxesSubplot:xlabel='delinq_2yrs,loan_status'>"
      ]
     },
     "execution_count": 97,
     "metadata": {},
     "output_type": "execute_result"
    },
    {
     "data": {
      "image/png": "[encoded data removed]",
      "text/plain": [
       "<Figure size 432x288 with 1 Axes>"
      ]
     },
     "metadata": {
      "needs_background": "light"
     },
     "output_type": "display_data"
    }
   ],
   "source": [
    "#Analysis delinq_2yrs\n",
    "\n",
    "pivot_delinq_2yrs = loans.pivot_table(index =['delinq_2yrs','loan_status'], \n",
    "                       values =['home_ownership'], aggfunc ='count')\n",
    "\n",
    "\n",
    "pivot_delinq_2yrs['percentage'] = (pivot_delinq_2yrs.home_ownership / pivot_delinq_2yrs.groupby(level=0).home_ownership.transform(sum) * 100)\n",
    "\n",
    "\n",
    "print(pivot_delinq_2yrs)\n",
    "pivot_delinq_2yrs.plot.bar(y='percentage')\n",
    "\n",
    "#Conclusion - For more than 1 delinquency incidents, customer charged off percentage increases by 4%"
   ]
  },
  {
   "cell_type": "code",
   "execution_count": 101,
   "id": "00fadabf",
   "metadata": {},
   "outputs": [
    {
     "name": "stdout",
     "output_type": "stream",
     "text": [
      "                   home_ownership  percentage\n",
      "dti   loan_status                            \n",
      "0.00  Charged Off              29   16.292135\n",
      "      Fully Paid              149   83.707865\n",
      "0.01  Charged Off               1   33.333333\n",
      "      Fully Paid                2   66.666667\n",
      "0.02  Fully Paid                5  100.000000\n",
      "...                           ...         ...\n",
      "29.88 Fully Paid                1  100.000000\n",
      "29.89 Fully Paid                1  100.000000\n",
      "29.92 Fully Paid                2  100.000000\n",
      "29.93 Fully Paid                3  100.000000\n",
      "29.99 Fully Paid                1  100.000000\n",
      "\n",
      "[5045 rows x 2 columns]\n"
     ]
    },
    {
     "data": {
      "text/plain": [
       "<AxesSubplot:xlabel='dti,loan_status'>"
      ]
     },
     "execution_count": 101,
     "metadata": {},
     "output_type": "execute_result"
    },
    {
     "data": {
      "image/png": "[encoded data removed]",
      "text/plain": [
       "<Figure size 432x288 with 1 Axes>"
      ]
     },
     "metadata": {
      "needs_background": "light"
     },
     "output_type": "display_data"
    }
   ],
   "source": [
    "#Analysis dti ratio\n",
    "\n",
    "pivot_dti = loans.pivot_table(index =['dti','loan_status'], \n",
    "                       values =['home_ownership'], aggfunc ='count')\n",
    "\n",
    "\n",
    "pivot_dti['percentage'] = (pivot_dti.home_ownership / pivot_dti.groupby(level=0).home_ownership.transform(sum) * 100)\n",
    "\n",
    "\n",
    "print(pivot_dti.loc[:\"Charged Off\"])\n",
    "pivot_dti.plot.bar(y='percentage')\n",
    "\n",
    "#Conclusion - No conclusion"
   ]
  },
  {
   "cell_type": "code",
   "execution_count": 102,
   "id": "8f31a279",
   "metadata": {},
   "outputs": [
    {
     "name": "stdout",
     "output_type": "stream",
     "text": [
      "                                 funded_amnt\n",
      "range_funded_amount loan_status             \n",
      "0.0                 Charged Off         1044\n",
      "                    Fully Paid          6494\n",
      "1.0                 Charged Off         1603\n",
      "                    Fully Paid         10692\n",
      "2.0                 Charged Off         1198\n",
      "                    Fully Paid          7659\n",
      "3.0                 Charged Off          815\n",
      "                    Fully Paid          3889\n",
      "4.0                 Charged Off          494\n",
      "                    Fully Paid          2341\n",
      "5.0                 Charged Off          268\n",
      "                    Fully Paid          1165\n",
      "6.0                 Charged Off           79\n",
      "                    Fully Paid           337\n",
      "7.0                 Charged Off          126\n",
      "                    Fully Paid           373\n",
      "                                 funded_amnt  percentage\n",
      "range_funded_amount loan_status                         \n",
      "0.0                 Charged Off         1044   13.849828\n",
      "                    Fully Paid          6494   86.150172\n",
      "1.0                 Charged Off         1603   13.037820\n",
      "                    Fully Paid         10692   86.962180\n",
      "2.0                 Charged Off         1198   13.526025\n",
      "                    Fully Paid          7659   86.473975\n",
      "3.0                 Charged Off          815   17.325680\n",
      "                    Fully Paid          3889   82.674320\n",
      "4.0                 Charged Off          494   17.425044\n",
      "                    Fully Paid          2341   82.574956\n",
      "5.0                 Charged Off          268   18.702024\n",
      "                    Fully Paid          1165   81.297976\n",
      "6.0                 Charged Off           79   18.990385\n",
      "                    Fully Paid           337   81.009615\n",
      "7.0                 Charged Off          126   25.250501\n",
      "                    Fully Paid           373   74.749499\n"
     ]
    },
    {
     "name": "stderr",
     "output_type": "stream",
     "text": [
      "/var/folders/kp/4mdlby_s1_n2rndtn7k_2kd0_rkjpd/T/ipykernel_14410/2320893988.py:5: SettingWithCopyWarning: \n",
      "A value is trying to be set on a copy of a slice from a DataFrame.\n",
      "Try using .loc[row_indexer,col_indexer] = value instead\n",
      "\n",
      "See the caveats in the documentation: https://pandas.pydata.org/pandas-docs/stable/user_guide/indexing.html#returning-a-view-versus-a-copy\n",
      "  loans_segment['range_funded_amount'] = loans_segment['funded_amnt'] / 5000\n",
      "/var/folders/kp/4mdlby_s1_n2rndtn7k_2kd0_rkjpd/T/ipykernel_14410/2320893988.py:6: SettingWithCopyWarning: \n",
      "A value is trying to be set on a copy of a slice from a DataFrame.\n",
      "Try using .loc[row_indexer,col_indexer] = value instead\n",
      "\n",
      "See the caveats in the documentation: https://pandas.pydata.org/pandas-docs/stable/user_guide/indexing.html#returning-a-view-versus-a-copy\n",
      "  loans_segment['range_funded_amount'] = loans_segment['range_funded_amount'].apply(np.floor)\n"
     ]
    },
    {
     "data": {
      "text/plain": [
       "<AxesSubplot:xlabel='range_funded_amount,loan_status'>"
      ]
     },
     "execution_count": 102,
     "metadata": {},
     "output_type": "execute_result"
    },
    {
     "data": {
      "image/png": "[encoded data removed]",
      "text/plain": [
       "<Figure size 432x288 with 1 Axes>"
      ]
     },
     "metadata": {
      "needs_background": "light"
     },
     "output_type": "display_data"
    }
   ],
   "source": [
    "#Analysis funded_amnt\n",
    "\n",
    "loans_segment = loans[[\"loan_status\", \"funded_amnt\"]]\n",
    "\n",
    "loans_segment['range_funded_amount'] = loans_segment['funded_amnt'] / 5000\n",
    "loans_segment['range_funded_amount'] = loans_segment['range_funded_amount'].apply(np.floor)\n",
    "\n",
    "\n",
    "pivot_loans_segment = loans_segment.pivot_table(index =['range_funded_amount','loan_status'], \n",
    "                       values =['funded_amnt'], aggfunc ='count')\n",
    "\n",
    "print(pivot_loans_segment)\n",
    "pivot_loans_segment['percentage'] = (pivot_loans_segment.funded_amnt / pivot_loans_segment.groupby(level=0).funded_amnt.transform(sum) * 100)\n",
    "print(pivot_loans_segment)\n",
    "pivot_loans_segment.plot.bar(y='percentage')\n",
    "\n",
    "#Conclusion - Charge off percentage increases with the increase in funded_amnt it is more than 18% if the\n",
    "#funded amount goes beyond 25K"
   ]
  },
  {
   "cell_type": "code",
   "execution_count": 103,
   "id": "57dd5367",
   "metadata": {},
   "outputs": [
    {
     "name": "stdout",
     "output_type": "stream",
     "text": [
      "                             total_acc\n",
      "range_total_acc loan_status           \n",
      "0.0             Charged Off        122\n",
      "                Fully Paid         476\n",
      "1.0             Charged Off        668\n",
      "                Fully Paid        3407\n",
      "2.0             Charged Off       1007\n",
      "                Fully Paid        5466\n",
      "3.0             Charged Off       1010\n",
      "                Fully Paid        5925\n",
      "4.0             Charged Off        873\n",
      "                Fully Paid        5561\n",
      "5.0             Charged Off        666\n",
      "                Fully Paid        4366\n",
      "6.0             Charged Off        504\n",
      "                Fully Paid        3105\n",
      "7.0             Charged Off        354\n",
      "                Fully Paid        2036\n",
      "8.0             Charged Off        208\n",
      "                Fully Paid        1139\n",
      "9.0             Charged Off        115\n",
      "                Fully Paid         681\n",
      "10.0            Charged Off         38\n",
      "                Fully Paid         401\n",
      "11.0            Charged Off         28\n",
      "                Fully Paid         188\n",
      "12.0            Charged Off         31\n",
      "                Fully Paid         172\n",
      "13.0            Charged Off          1\n",
      "                Fully Paid          12\n",
      "14.0            Charged Off          2\n",
      "                Fully Paid           3\n",
      "15.0            Fully Paid           8\n",
      "16.0            Fully Paid           2\n",
      "17.0            Fully Paid           1\n",
      "18.0            Fully Paid           1\n",
      "                             total_acc  percentage\n",
      "range_total_acc loan_status                       \n",
      "0.0             Charged Off        122   20.401338\n",
      "                Fully Paid         476   79.598662\n",
      "1.0             Charged Off        668   16.392638\n",
      "                Fully Paid        3407   83.607362\n",
      "2.0             Charged Off       1007   15.556929\n",
      "                Fully Paid        5466   84.443071\n",
      "3.0             Charged Off       1010   14.563807\n",
      "                Fully Paid        5925   85.436193\n",
      "4.0             Charged Off        873   13.568542\n",
      "                Fully Paid        5561   86.431458\n",
      "5.0             Charged Off        666   13.235294\n",
      "                Fully Paid        4366   86.764706\n",
      "6.0             Charged Off        504   13.965087\n",
      "                Fully Paid        3105   86.034913\n",
      "7.0             Charged Off        354   14.811715\n",
      "                Fully Paid        2036   85.188285\n",
      "8.0             Charged Off        208   15.441722\n",
      "                Fully Paid        1139   84.558278\n",
      "9.0             Charged Off        115   14.447236\n",
      "                Fully Paid         681   85.552764\n",
      "10.0            Charged Off         38    8.656036\n",
      "                Fully Paid         401   91.343964\n",
      "11.0            Charged Off         28   12.962963\n",
      "                Fully Paid         188   87.037037\n",
      "12.0            Charged Off         31   15.270936\n",
      "                Fully Paid         172   84.729064\n",
      "13.0            Charged Off          1    7.692308\n",
      "                Fully Paid          12   92.307692\n",
      "14.0            Charged Off          2   40.000000\n",
      "                Fully Paid           3   60.000000\n",
      "15.0            Fully Paid           8  100.000000\n",
      "16.0            Fully Paid           2  100.000000\n",
      "17.0            Fully Paid           1  100.000000\n",
      "18.0            Fully Paid           1  100.000000\n"
     ]
    },
    {
     "name": "stderr",
     "output_type": "stream",
     "text": [
      "/var/folders/kp/4mdlby_s1_n2rndtn7k_2kd0_rkjpd/T/ipykernel_14410/948898598.py:5: SettingWithCopyWarning: \n",
      "A value is trying to be set on a copy of a slice from a DataFrame.\n",
      "Try using .loc[row_indexer,col_indexer] = value instead\n",
      "\n",
      "See the caveats in the documentation: https://pandas.pydata.org/pandas-docs/stable/user_guide/indexing.html#returning-a-view-versus-a-copy\n",
      "  loans_segment['range_total_acc'] = loans_segment['total_acc'] / 5\n",
      "/var/folders/kp/4mdlby_s1_n2rndtn7k_2kd0_rkjpd/T/ipykernel_14410/948898598.py:6: SettingWithCopyWarning: \n",
      "A value is trying to be set on a copy of a slice from a DataFrame.\n",
      "Try using .loc[row_indexer,col_indexer] = value instead\n",
      "\n",
      "See the caveats in the documentation: https://pandas.pydata.org/pandas-docs/stable/user_guide/indexing.html#returning-a-view-versus-a-copy\n",
      "  loans_segment['range_total_acc'] = loans_segment['range_total_acc'].apply(np.floor)\n"
     ]
    },
    {
     "data": {
      "text/plain": [
       "<AxesSubplot:xlabel='range_total_acc,loan_status'>"
      ]
     },
     "execution_count": 103,
     "metadata": {},
     "output_type": "execute_result"
    },
    {
     "data": {
      "image/png": "[encoded data removed]",
      "text/plain": [
       "<Figure size 432x288 with 1 Axes>"
      ]
     },
     "metadata": {
      "needs_background": "light"
     },
     "output_type": "display_data"
    }
   ],
   "source": [
    "#Analysis total_acc\n",
    "\n",
    "loans_segment = loans[[\"loan_status\", \"total_acc\"]]\n",
    "\n",
    "loans_segment['range_total_acc'] = loans_segment['total_acc'] / 5\n",
    "loans_segment['range_total_acc'] = loans_segment['range_total_acc'].apply(np.floor)\n",
    "\n",
    "\n",
    "pivot_loans_segment = loans_segment.pivot_table(index =['range_total_acc','loan_status'], \n",
    "                       values =['total_acc'], aggfunc ='count')\n",
    "\n",
    "print(pivot_loans_segment)\n",
    "pivot_loans_segment['percentage'] = (pivot_loans_segment.total_acc / pivot_loans_segment.groupby(level=0).total_acc.transform(sum) * 100)\n",
    "print(pivot_loans_segment)\n",
    "pivot_loans_segment.plot.bar(y='percentage')\n",
    "\n",
    "#Conclusion - Charge off percentage increases with the (0-5) in total_acc it is more than 15% which is base average"
   ]
  }
 ],
 "metadata": {
  "kernelspec": {
   "display_name": "Python 3 (ipykernel)",
   "language": "python",
   "name": "python3"
  },
  "language_info": {
   "codemirror_mode": {
    "name": "ipython",
    "version": 3
   },
   "file_extension": ".py",
   "mimetype": "text/x-python",
   "name": "python",
   "nbconvert_exporter": "python",
   "pygments_lexer": "ipython3",
   "version": "3.8.6"
  }
 },
 "nbformat": 4,
 "nbformat_minor": 5
}
