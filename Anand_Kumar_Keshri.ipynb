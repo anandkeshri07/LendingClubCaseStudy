{
 "cells": [
  {
   "cell_type": "code",
   "execution_count": 2,
   "id": "2ed94f0b",
   "metadata": {},
   "outputs": [
    {
     "name": "stdout",
     "output_type": "stream",
     "text": [
      "        id  member_id  loan_amnt  funded_amnt  funded_amnt_inv        term  \\\n",
      "0  1077501    1296599       5000         5000           4975.0   36 months   \n",
      "1  1077430    1314167       2500         2500           2500.0   60 months   \n",
      "2  1077175    1313524       2400         2400           2400.0   36 months   \n",
      "3  1076863    1277178      10000        10000          10000.0   36 months   \n",
      "4  1075358    1311748       3000         3000           3000.0   60 months   \n",
      "\n",
      "  int_rate  installment grade sub_grade  ... num_tl_90g_dpd_24m  \\\n",
      "0   10.65%       162.87     B        B2  ...                NaN   \n",
      "1   15.27%        59.83     C        C4  ...                NaN   \n",
      "2   15.96%        84.33     C        C5  ...                NaN   \n",
      "3   13.49%       339.31     C        C1  ...                NaN   \n",
      "4   12.69%        67.79     B        B5  ...                NaN   \n",
      "\n",
      "  num_tl_op_past_12m pct_tl_nvr_dlq  percent_bc_gt_75 pub_rec_bankruptcies  \\\n",
      "0                NaN            NaN               NaN                  0.0   \n",
      "1                NaN            NaN               NaN                  0.0   \n",
      "2                NaN            NaN               NaN                  0.0   \n",
      "3                NaN            NaN               NaN                  0.0   \n",
      "4                NaN            NaN               NaN                  0.0   \n",
      "\n",
      "  tax_liens tot_hi_cred_lim total_bal_ex_mort total_bc_limit  \\\n",
      "0       0.0             NaN               NaN            NaN   \n",
      "1       0.0             NaN               NaN            NaN   \n",
      "2       0.0             NaN               NaN            NaN   \n",
      "3       0.0             NaN               NaN            NaN   \n",
      "4       0.0             NaN               NaN            NaN   \n",
      "\n",
      "  total_il_high_credit_limit  \n",
      "0                        NaN  \n",
      "1                        NaN  \n",
      "2                        NaN  \n",
      "3                        NaN  \n",
      "4                        NaN  \n",
      "\n",
      "[5 rows x 111 columns]\n"
     ]
    },
    {
     "name": "stderr",
     "output_type": "stream",
     "text": [
      "/var/folders/kp/4mdlby_s1_n2rndtn7k_2kd0_rkjpd/T/ipykernel_3569/171319561.py:2: DtypeWarning: Columns (47) have mixed types. Specify dtype option on import or set low_memory=False.\n",
      "  loans = pd.read_csv('/Users/anand.keshri/upgrad/loan.csv')\n"
     ]
    }
   ],
   "source": [
    "import pandas as pd\n",
    "loans = pd.read_csv('/Users/anand.keshri/upgrad/loan.csv')\n",
    "print(loans.head())"
   ]
  }
 ],
 "metadata": {
  "kernelspec": {
   "display_name": "Python 3 (ipykernel)",
   "language": "python",
   "name": "python3"
  },
  "language_info": {
   "codemirror_mode": {
    "name": "ipython",
    "version": 3
   },
   "file_extension": ".py",
   "mimetype": "text/x-python",
   "name": "python",
   "nbconvert_exporter": "python",
   "pygments_lexer": "ipython3",
   "version": "3.8.6"
  }
 },
 "nbformat": 4,
 "nbformat_minor": 5
}
